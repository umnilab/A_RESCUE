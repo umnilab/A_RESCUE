{
 "cells": [
  {
   "cell_type": "markdown",
   "metadata": {},
   "source": [
    "## Setup"
   ]
  },
  {
   "cell_type": "code",
   "execution_count": 2,
   "metadata": {},
   "outputs": [],
   "source": [
    "import pandas as pd\n",
    "import numpy as np\n",
    "import geopandas as gp\n",
    "import seaborn as sns\n",
    "import matplotlib.pyplot as plt\n",
    "import matplotlib.ticker as mticker\n",
    "import matplotlib.patheffects as effects\n",
    "import networkx as nx\n",
    "import os\n",
    "from glob import glob\n",
    "from tqdm.notebook import tqdm"
   ]
  },
  {
   "cell_type": "code",
   "execution_count": 3,
   "metadata": {},
   "outputs": [],
   "source": [
    "def peek(df, top=3):\n",
    "    print('Shape:', df.shape)\n",
    "    return df.head(top)"
   ]
  },
  {
   "cell_type": "markdown",
   "metadata": {},
   "source": [
    "## Read static content"
   ]
  },
  {
   "cell_type": "markdown",
   "metadata": {},
   "source": [
    "### Zones list"
   ]
  },
  {
   "cell_type": "code",
   "execution_count": 9,
   "metadata": {},
   "outputs": [
    {
     "name": "stdout",
     "output_type": "stream",
     "text": [
      "Shape: (731, 2)\n"
     ]
    },
    {
     "data": {
      "text/html": [
       "<div>\n",
       "<style scoped>\n",
       "    .dataframe tbody tr th:only-of-type {\n",
       "        vertical-align: middle;\n",
       "    }\n",
       "\n",
       "    .dataframe tbody tr th {\n",
       "        vertical-align: top;\n",
       "    }\n",
       "\n",
       "    .dataframe thead th {\n",
       "        text-align: right;\n",
       "    }\n",
       "</style>\n",
       "<table border=\"1\" class=\"dataframe\">\n",
       "  <thead>\n",
       "    <tr style=\"text-align: right;\">\n",
       "      <th></th>\n",
       "      <th>FID</th>\n",
       "      <th>GEOID</th>\n",
       "    </tr>\n",
       "  </thead>\n",
       "  <tbody>\n",
       "    <tr>\n",
       "      <th>0</th>\n",
       "      <td>1</td>\n",
       "      <td>121090204002</td>\n",
       "    </tr>\n",
       "    <tr>\n",
       "      <th>1</th>\n",
       "      <td>2</td>\n",
       "      <td>121099902000</td>\n",
       "    </tr>\n",
       "    <tr>\n",
       "      <th>2</th>\n",
       "      <td>3</td>\n",
       "      <td>120310161001</td>\n",
       "    </tr>\n",
       "  </tbody>\n",
       "</table>\n",
       "</div>"
      ],
      "text/plain": [
       "   FID         GEOID\n",
       "0    1  121090204002\n",
       "1    2  121099902000\n",
       "2    3  120310161001"
      ]
     },
     "execution_count": 9,
     "metadata": {},
     "output_type": "execute_result"
    }
   ],
   "source": [
    "zones = (pd.read_csv('geometry/jacksonville/block_groups/metro_centroid/jack_cbgs_centroid.txt')\n",
    "         .assign(GEOID = lambda x: (x['GEOID'] + x['GEOID10']).astype(np.int64),\n",
    "                 FID = lambda x: x['FID']+1)\n",
    "         [['FID', 'GEOID']])\n",
    "peek(zones)"
   ]
  },
  {
   "cell_type": "markdown",
   "metadata": {},
   "source": [
    "### Shelters list"
   ]
  },
  {
   "cell_type": "code",
   "execution_count": 11,
   "metadata": {},
   "outputs": [
    {
     "name": "stdout",
     "output_type": "stream",
     "text": [
      "Shape: (55, 2)\n"
     ]
    },
    {
     "data": {
      "text/html": [
       "<div>\n",
       "<style scoped>\n",
       "    .dataframe tbody tr th:only-of-type {\n",
       "        vertical-align: middle;\n",
       "    }\n",
       "\n",
       "    .dataframe tbody tr th {\n",
       "        vertical-align: top;\n",
       "    }\n",
       "\n",
       "    .dataframe thead th {\n",
       "        text-align: right;\n",
       "    }\n",
       "</style>\n",
       "<table border=\"1\" class=\"dataframe\">\n",
       "  <thead>\n",
       "    <tr style=\"text-align: right;\">\n",
       "      <th></th>\n",
       "      <th>FID</th>\n",
       "      <th>GEOID</th>\n",
       "    </tr>\n",
       "  </thead>\n",
       "  <tbody>\n",
       "    <tr>\n",
       "      <th>0</th>\n",
       "      <td>-1</td>\n",
       "      <td>120030401021</td>\n",
       "    </tr>\n",
       "    <tr>\n",
       "      <th>1</th>\n",
       "      <td>-2</td>\n",
       "      <td>120030401011</td>\n",
       "    </tr>\n",
       "    <tr>\n",
       "      <th>2</th>\n",
       "      <td>-3</td>\n",
       "      <td>120030401022</td>\n",
       "    </tr>\n",
       "  </tbody>\n",
       "</table>\n",
       "</div>"
      ],
      "text/plain": [
       "   FID         GEOID\n",
       "0   -1  120030401021\n",
       "1   -2  120030401011\n",
       "2   -3  120030401022"
      ]
     },
     "execution_count": 11,
     "metadata": {},
     "output_type": "execute_result"
    }
   ],
   "source": [
    "shelts = (pd.read_csv('geometry/jacksonville/shelters/metro/jack_shelters.csv')\n",
    "          .assign(FID = lambda x: -1*x['Id'])\n",
    "          .astype({'GeoID': np.int64})\n",
    "          .rename(columns={'GeoID': 'GEOID'})\n",
    "          [['FID', 'GEOID']])\n",
    "peek(shelts)"
   ]
  },
  {
   "cell_type": "markdown",
   "metadata": {},
   "source": [
    "### Mapping between zone & CBG"
   ]
  },
  {
   "cell_type": "code",
   "execution_count": 13,
   "metadata": {},
   "outputs": [
    {
     "name": "stdout",
     "output_type": "stream",
     "text": [
      "Shape: (730, 2)\n"
     ]
    },
    {
     "data": {
      "text/html": [
       "<div>\n",
       "<style scoped>\n",
       "    .dataframe tbody tr th:only-of-type {\n",
       "        vertical-align: middle;\n",
       "    }\n",
       "\n",
       "    .dataframe tbody tr th {\n",
       "        vertical-align: top;\n",
       "    }\n",
       "\n",
       "    .dataframe thead th {\n",
       "        text-align: right;\n",
       "    }\n",
       "</style>\n",
       "<table border=\"1\" class=\"dataframe\">\n",
       "  <thead>\n",
       "    <tr style=\"text-align: right;\">\n",
       "      <th></th>\n",
       "      <th>cbg</th>\n",
       "      <th>em_zone</th>\n",
       "    </tr>\n",
       "  </thead>\n",
       "  <tbody>\n",
       "    <tr>\n",
       "      <th>0</th>\n",
       "      <td>121090204002</td>\n",
       "      <td>0</td>\n",
       "    </tr>\n",
       "    <tr>\n",
       "      <th>1</th>\n",
       "      <td>121099902000</td>\n",
       "      <td>0</td>\n",
       "    </tr>\n",
       "    <tr>\n",
       "      <th>2</th>\n",
       "      <td>120310161001</td>\n",
       "      <td>2</td>\n",
       "    </tr>\n",
       "  </tbody>\n",
       "</table>\n",
       "</div>"
      ],
      "text/plain": [
       "            cbg  em_zone\n",
       "0  121090204002        0\n",
       "1  121099902000        0\n",
       "2  120310161001        2"
      ]
     },
     "execution_count": 13,
     "metadata": {},
     "output_type": "execute_result"
    }
   ],
   "source": [
    "# mapping between CBG/TAZ ID and Emmanuel's 7 destination choice zones\n",
    "# (2 in city, 5 directional)\n",
    "map_cbg_dir_zone = (pd.read_csv('geometry/jacksonville/zone-keys.csv')\n",
    "                    .rename(columns={'DEST': 'em_zone', 'GEOID': 'cbg'}))\n",
    "peek(map_cbg_dir_zone)"
   ]
  },
  {
   "cell_type": "markdown",
   "metadata": {},
   "source": [
    "### Zones shapefile"
   ]
  },
  {
   "cell_type": "code",
   "execution_count": 16,
   "metadata": {},
   "outputs": [
    {
     "name": "stdout",
     "output_type": "stream",
     "text": [
      "Shape: (731, 3)\n"
     ]
    },
    {
     "data": {
      "text/html": [
       "<div>\n",
       "<style scoped>\n",
       "    .dataframe tbody tr th:only-of-type {\n",
       "        vertical-align: middle;\n",
       "    }\n",
       "\n",
       "    .dataframe tbody tr th {\n",
       "        vertical-align: top;\n",
       "    }\n",
       "\n",
       "    .dataframe thead th {\n",
       "        text-align: right;\n",
       "    }\n",
       "</style>\n",
       "<table border=\"1\" class=\"dataframe\">\n",
       "  <thead>\n",
       "    <tr style=\"text-align: right;\">\n",
       "      <th></th>\n",
       "      <th>cbg</th>\n",
       "      <th>aland</th>\n",
       "      <th>geometry</th>\n",
       "    </tr>\n",
       "  </thead>\n",
       "  <tbody>\n",
       "    <tr>\n",
       "      <th>0</th>\n",
       "      <td>121090204002</td>\n",
       "      <td>1839608.0</td>\n",
       "      <td>POLYGON ((168736.999 614970.556, 168749.961 61...</td>\n",
       "    </tr>\n",
       "    <tr>\n",
       "      <th>1</th>\n",
       "      <td>121099902000</td>\n",
       "      <td>0.0</td>\n",
       "      <td>POLYGON ((163930.609 655963.945, 164320.076 65...</td>\n",
       "    </tr>\n",
       "    <tr>\n",
       "      <th>2</th>\n",
       "      <td>120310161001</td>\n",
       "      <td>1197800.0</td>\n",
       "      <td>POLYGON ((141199.142 659597.695, 141218.331 65...</td>\n",
       "    </tr>\n",
       "  </tbody>\n",
       "</table>\n",
       "</div>"
      ],
      "text/plain": [
       "            cbg      aland                                           geometry\n",
       "0  121090204002  1839608.0  POLYGON ((168736.999 614970.556, 168749.961 61...\n",
       "1  121099902000        0.0  POLYGON ((163930.609 655963.945, 164320.076 65...\n",
       "2  120310161001  1197800.0  POLYGON ((141199.142 659597.695, 141218.331 65..."
      ]
     },
     "execution_count": 16,
     "metadata": {},
     "output_type": "execute_result"
    }
   ],
   "source": [
    "zones_shp = (gp.read_file('geometry/jacksonville/block_groups/metro/jack_cbgs.shp')\n",
    "             .fillna(0)\n",
    "             .assign(cbg = lambda x: (x['GEOID'].astype(np.int64) +\n",
    "                                      x['GEOID10'].astype(np.int64)),\n",
    "                     aland = lambda x: x['ALAND'] + x['ALAND10'])\n",
    "             [['cbg', 'aland', 'geometry']])\n",
    "peek(zones_shp)"
   ]
  },
  {
   "cell_type": "markdown",
   "metadata": {},
   "source": [
    "## Plot zones"
   ]
  },
  {
   "cell_type": "code",
   "execution_count": 19,
   "metadata": {},
   "outputs": [
    {
     "data": {
      "image/png": "[encoded data removed]",
      "text/plain": [
       "<Figure size 576x576 with 1 Axes>"
      ]
     },
     "metadata": {
      "needs_background": "light"
     },
     "output_type": "display_data"
    }
   ],
   "source": [
    "(zones_shp.merge(map_cbg_dir_zone)\n",
    " .query('aland > 0')\n",
    " .astype({'em_zone': 'category'})\n",
    " .plot(column='em_zone', figsize=(8, 8), cmap='Paired', legend=True))\n",
    "plt.axis('off');"
   ]
  },
  {
   "cell_type": "markdown",
   "metadata": {},
   "source": [
    "## Process demand file"
   ]
  },
  {
   "cell_type": "code",
   "execution_count": 20,
   "metadata": {
    "jupyter": {
     "source_hidden": true
    }
   },
   "outputs": [],
   "source": [
    "def process_demand(fname, root='demand/Shen-scenarios',\n",
    "                   zones=zones, shelts=shelts):\n",
    "    \"\"\"\n",
    "    Read and process a demand CSV file.\n",
    "    Convert the \"long\" demand format required by the simulator (where each\n",
    "    pair of rows denotes one vehicle) to a wide format where each row denotes\n",
    "    a vehicle and also includes whether the destination is a shelter.\n",
    "    \n",
    "    @param fname: <str> basename of the CSV file (without extension/directory)\n",
    "    @param root: <str> folder containing the given file\n",
    "    \"\"\"\n",
    "    # read the original demand file (should be CSV)\n",
    "    raw = pd.read_csv(f'{root}/{fname}.csv')\n",
    "    raw.columns = ['veh_id', 'GEOID', 'Departure']\n",
    "    \n",
    "    # get the set of 1st rows (contains info of origin) & map from TAZ to zone\n",
    "    rows1 = (raw.iloc[::2]\n",
    "             .merge(zones, on='GEOID')\n",
    "             .rename(columns={'FID': 'orig', 'Departure': 'dep_time'})\n",
    "             .drop(columns=['GEOID'])\n",
    "            )\n",
    "    # get the set of 2nd rows (contains info of destination & shelter)\n",
    "    rows2 = raw.iloc[1::2].rename(columns={'Departure': 'is_shelter'})\n",
    "    \n",
    "    # separate the shelter and non-shelter vehicles & map from TAZ to zone\n",
    "    shelt_rows = rows2.query('is_shelter == 1').merge(shelts, on='GEOID')\n",
    "    zone_rows = rows2.query('is_shelter == 0').merge(zones, on='GEOID')\n",
    "    \n",
    "    # join them to get destination rows\n",
    "    rows2 = (zone_rows.append(shelt_rows, ignore_index=True)\n",
    "             .drop(columns=['GEOID'])\n",
    "             .rename(columns={'FID': 'dest'})\n",
    "            )\n",
    "    # join them into 1 table\n",
    "    demand = (pd.merge(rows1, rows2, on='veh_id')\n",
    "              .sort_values('dep_time')\n",
    "              .reset_index(drop=True)\n",
    "             )\n",
    "    # recreate vehicle IDs using the row numbers\n",
    "    demand['veh_id'] = demand.index + 1\n",
    "    \n",
    "    return demand"
   ]
  },
  {
   "cell_type": "code",
   "execution_count": 33,
   "metadata": {},
   "outputs": [
    {
     "name": "stdout",
     "output_type": "stream",
     "text": [
      "Shape: (453750, 5)\n"
     ]
    },
    {
     "data": {
      "text/html": [
       "<div>\n",
       "<style scoped>\n",
       "    .dataframe tbody tr th:only-of-type {\n",
       "        vertical-align: middle;\n",
       "    }\n",
       "\n",
       "    .dataframe tbody tr th {\n",
       "        vertical-align: top;\n",
       "    }\n",
       "\n",
       "    .dataframe thead th {\n",
       "        text-align: right;\n",
       "    }\n",
       "</style>\n",
       "<table border=\"1\" class=\"dataframe\">\n",
       "  <thead>\n",
       "    <tr style=\"text-align: right;\">\n",
       "      <th></th>\n",
       "      <th>veh_id</th>\n",
       "      <th>dep_time</th>\n",
       "      <th>orig</th>\n",
       "      <th>is_shelter</th>\n",
       "      <th>dest</th>\n",
       "    </tr>\n",
       "  </thead>\n",
       "  <tbody>\n",
       "    <tr>\n",
       "      <th>0</th>\n",
       "      <td>1</td>\n",
       "      <td>1</td>\n",
       "      <td>649</td>\n",
       "      <td>0</td>\n",
       "      <td>141</td>\n",
       "    </tr>\n",
       "    <tr>\n",
       "      <th>1</th>\n",
       "      <td>2</td>\n",
       "      <td>1</td>\n",
       "      <td>452</td>\n",
       "      <td>0</td>\n",
       "      <td>145</td>\n",
       "    </tr>\n",
       "    <tr>\n",
       "      <th>2</th>\n",
       "      <td>3</td>\n",
       "      <td>1</td>\n",
       "      <td>178</td>\n",
       "      <td>0</td>\n",
       "      <td>326</td>\n",
       "    </tr>\n",
       "  </tbody>\n",
       "</table>\n",
       "</div>"
      ],
      "text/plain": [
       "   veh_id  dep_time  orig  is_shelter  dest\n",
       "0       1         1   649           0   141\n",
       "1       2         1   452           0   145\n",
       "2       3         1   178           0   326"
      ]
     },
     "execution_count": 33,
     "metadata": {},
     "output_type": "execute_result"
    }
   ],
   "source": [
    "base_dmd = process_demand('base-orig')\n",
    "peek(base_dmd)"
   ]
  },
  {
   "cell_type": "markdown",
   "metadata": {},
   "source": [
    "### wide2long\n",
    "Convert the prettified demand table format to the format usable by simulator"
   ]
  },
  {
   "cell_type": "code",
   "execution_count": 34,
   "metadata": {
    "jupyter": {
     "source_hidden": true
    }
   },
   "outputs": [],
   "source": [
    "def wide2long(demand, outfile=None):\n",
    "    \"\"\"\n",
    "    Convert the prettified wide format of the demand to long format (as\n",
    "    provided by Shen) where each pair of rows denotes a vehicle.\n",
    "    Optionally, also export the table as CSV.\n",
    "    \n",
    "    @param demand: <pd.df> prettified form of the demand\n",
    "    @param outfile: <str> path of the output file (CSV); if None, do not export\n",
    "    \"\"\"\n",
    "    # get the origin rows\n",
    "    rows1 = (demand[['veh_id', 'orig', 'dep_time']]\n",
    "             .rename(columns={'veh_id': 'ID', 'orig': 'FID',\n",
    "                              'dep_time': 'Departure'}))\n",
    "    # get the destination rows\n",
    "    rows2 = (demand[['veh_id', 'dest', 'is_shelter']]\n",
    "             .rename(columns={'veh_id': 'ID', 'dest': 'FID',\n",
    "                              'is_shelter': 'Departure'}))\n",
    "    # append them\n",
    "    result = (rows1.append(rows2, ignore_index=True)\n",
    "              .sort_values(['ID', 'Departure'], ascending=[True, False])\n",
    "              .reset_index(drop=True))\n",
    "    \n",
    "    # export to CSV\n",
    "    if outfile is not None:\n",
    "        result.to_csv(outfile, index=False)\n",
    "    \n",
    "    return result"
   ]
  },
  {
   "cell_type": "code",
   "execution_count": 35,
   "metadata": {},
   "outputs": [
    {
     "name": "stdout",
     "output_type": "stream",
     "text": [
      "Shape: (907500, 3)\n"
     ]
    },
    {
     "data": {
      "text/html": [
       "<div>\n",
       "<style scoped>\n",
       "    .dataframe tbody tr th:only-of-type {\n",
       "        vertical-align: middle;\n",
       "    }\n",
       "\n",
       "    .dataframe tbody tr th {\n",
       "        vertical-align: top;\n",
       "    }\n",
       "\n",
       "    .dataframe thead th {\n",
       "        text-align: right;\n",
       "    }\n",
       "</style>\n",
       "<table border=\"1\" class=\"dataframe\">\n",
       "  <thead>\n",
       "    <tr style=\"text-align: right;\">\n",
       "      <th></th>\n",
       "      <th>ID</th>\n",
       "      <th>FID</th>\n",
       "      <th>Departure</th>\n",
       "    </tr>\n",
       "  </thead>\n",
       "  <tbody>\n",
       "    <tr>\n",
       "      <th>0</th>\n",
       "      <td>1</td>\n",
       "      <td>649</td>\n",
       "      <td>1</td>\n",
       "    </tr>\n",
       "    <tr>\n",
       "      <th>1</th>\n",
       "      <td>1</td>\n",
       "      <td>141</td>\n",
       "      <td>0</td>\n",
       "    </tr>\n",
       "    <tr>\n",
       "      <th>2</th>\n",
       "      <td>2</td>\n",
       "      <td>452</td>\n",
       "      <td>1</td>\n",
       "    </tr>\n",
       "  </tbody>\n",
       "</table>\n",
       "</div>"
      ],
      "text/plain": [
       "   ID  FID  Departure\n",
       "0   1  649          1\n",
       "1   1  141          0\n",
       "2   2  452          1"
      ]
     },
     "execution_count": 35,
     "metadata": {},
     "output_type": "execute_result"
    }
   ],
   "source": [
    "peek(wide2long(base_dmd))"
   ]
  },
  {
   "cell_type": "markdown",
   "metadata": {},
   "source": [
    "### Plot the hourly demand profile"
   ]
  },
  {
   "cell_type": "code",
   "execution_count": 36,
   "metadata": {
    "jupyter": {
     "source_hidden": true
    }
   },
   "outputs": [
    {
     "data": {
      "image/png": "[encoded data removed]",
      "text/plain": [
       "<Figure size 432x288 with 1 Axes>"
      ]
     },
     "metadata": {
      "needs_background": "light"
     },
     "output_type": "display_data"
    }
   ],
   "source": [
    "def plot_demand_profile(demand):\n",
    "    (demand['dep_time']/60).hist(bins=78)\n",
    "    plt.xticks(np.arange(0, 84, 6))\n",
    "    plt.title('Hourly demand profile', fontsize=15)\n",
    "    plt.xlabel('Hours since beginning', fontsize=13)\n",
    "    plt.ylabel('No. of vehicles', fontsize=13)\n",
    "    \n",
    "plot_demand_profile(base_dmd)"
   ]
  },
  {
   "cell_type": "markdown",
   "metadata": {},
   "source": [
    "### Rename the original demand files"
   ]
  },
  {
   "cell_type": "raw",
   "metadata": {},
   "source": [
    "for f in glob('demand/Shen-scenarios/*.csv'):\n",
    "    if not 'clean' in f:\n",
    "        os.rename(f, f.replace('.', '-orig.'))\n",
    "    elif 'clean' in f:\n",
    "        os.rename(f, f.replace('_clean', '-clean'))"
   ]
  },
  {
   "cell_type": "raw",
   "metadata": {},
   "source": [
    "for f in glob('demand/Shen-scenarios/*.csv'):\n",
    "    try:\n",
    "        x = int(f.split('/')[-1].split('.')[0][1:])\n",
    "        if x >= 12:\n",
    "            os.rename(f, f[:-4]+'-orig.csv')\n",
    "    except ValueError as e:\n",
    "        pass"
   ]
  },
  {
   "cell_type": "markdown",
   "metadata": {},
   "source": [
    "### Process & export all demand scenarios"
   ]
  },
  {
   "cell_type": "code",
   "execution_count": 13,
   "metadata": {
    "jupyter": {
     "source_hidden": true
    }
   },
   "outputs": [],
   "source": [
    "def process_scenarios(scenarios, out_dir='demand/Shen-scenarios', export=False):\n",
    "    \"\"\"\n",
    "    Clean and prettify the demand of all of the given scenario names and store\n",
    "    them in one table. Optionally also export these cleaned tables to their\n",
    "    own files.\n",
    "    @param scenarios: <[]> list of scenario names to be processed\n",
    "    @param export: if true, export the cleaned table of each scenario with\n",
    "    prefix 'clean'\n",
    "    \"\"\"\n",
    "    # create combined demand table\n",
    "    result = pd.DataFrame()\n",
    "    \n",
    "    # process all demand files and export their cleaned versions\n",
    "    pbar = tqdm(scenarios)\n",
    "    for scenario in pbar:\n",
    "        pbar.set_description(f'Scenario: {scenario}')\n",
    "        \n",
    "        # read the demand in wide format\n",
    "        dmd = process_demand(scenario)\n",
    "\n",
    "        # add it to the overall demand table along with scenario name\n",
    "        scenario = scenario.split('-')[0]\n",
    "        sc_num = 0 if scenario == 'base' else int(scenario[1:])\n",
    "        dmd.insert(0, 'scenario', sc_num)\n",
    "        result = result.append(dmd, ignore_index=True)\n",
    "\n",
    "        # convert to long format and export\n",
    "        if export:\n",
    "            wide2long(dmd, outfile=f'{out_dir}/{scenario}-clean.csv')\n",
    "            \n",
    "    # convert the data types to save space\n",
    "    result = result.astype({'scenario': 'category', 'veh_id': np.int32,\n",
    "                            'dep_time': np.int32, 'orig': np.int16,\n",
    "                            'dest': np.int16, 'is_shelter': bool})\n",
    "    return result"
   ]
  },
  {
   "cell_type": "raw",
   "metadata": {},
   "source": [
    "%%time\n",
    "D = process_scenarios(['base-orig'] + [f'S{i+1}-orig' for i in range(12)], export=True)"
   ]
  },
  {
   "cell_type": "raw",
   "metadata": {},
   "source": [
    "%%time\n",
    "D = process_scenarios([f's{i}-orig' for i in range(13, 38)], export=True)"
   ]
  },
  {
   "cell_type": "code",
   "execution_count": 37,
   "metadata": {},
   "outputs": [
    {
     "data": {
      "application/vnd.jupyter.widget-view+json": {
       "model_id": "71436d0088c5417aa89032527356b76c",
       "version_major": 2,
       "version_minor": 0
      },
      "text/plain": [
       "HBox(children=(HTML(value=''), FloatProgress(value=0.0, max=25.0), HTML(value='')))"
      ]
     },
     "metadata": {},
     "output_type": "display_data"
    },
    {
     "name": "stdout",
     "output_type": "stream",
     "text": [
      "\n"
     ]
    },
    {
     "ename": "KeyboardInterrupt",
     "evalue": "",
     "output_type": "error",
     "traceback": [
      "\u001b[1;31m---------------------------------------------------------------------------\u001b[0m",
      "\u001b[1;31mKeyboardInterrupt\u001b[0m                         Traceback (most recent call last)",
      "\u001b[1;32m<timed exec>\u001b[0m in \u001b[0;36m<module>\u001b[1;34m\u001b[0m\n",
      "\u001b[1;32m<ipython-input-25-e443bee1fe99>\u001b[0m in \u001b[0;36mprocess_scenarios\u001b[1;34m(scenarios, out_dir, export)\u001b[0m\n\u001b[0;32m     17\u001b[0m \u001b[1;33m\u001b[0m\u001b[0m\n\u001b[0;32m     18\u001b[0m         \u001b[1;31m# read the demand in wide format\u001b[0m\u001b[1;33m\u001b[0m\u001b[1;33m\u001b[0m\u001b[1;33m\u001b[0m\u001b[0m\n\u001b[1;32m---> 19\u001b[1;33m         \u001b[0mdmd\u001b[0m \u001b[1;33m=\u001b[0m \u001b[0mprocess_demand\u001b[0m\u001b[1;33m(\u001b[0m\u001b[0mscenario\u001b[0m\u001b[1;33m)\u001b[0m\u001b[1;33m\u001b[0m\u001b[1;33m\u001b[0m\u001b[0m\n\u001b[0m\u001b[0;32m     20\u001b[0m \u001b[1;33m\u001b[0m\u001b[0m\n\u001b[0;32m     21\u001b[0m         \u001b[1;31m# add it to the overall demand table along with scenario name\u001b[0m\u001b[1;33m\u001b[0m\u001b[1;33m\u001b[0m\u001b[1;33m\u001b[0m\u001b[0m\n",
      "\u001b[1;32m<ipython-input-20-2516267b835a>\u001b[0m in \u001b[0;36mprocess_demand\u001b[1;34m(fname, root, zones, shelts)\u001b[0m\n\u001b[0;32m     33\u001b[0m             )\n\u001b[0;32m     34\u001b[0m     \u001b[1;31m# join them into 1 table\u001b[0m\u001b[1;33m\u001b[0m\u001b[1;33m\u001b[0m\u001b[1;33m\u001b[0m\u001b[0m\n\u001b[1;32m---> 35\u001b[1;33m     demand = (pd.merge(rows1, rows2, on='veh_id')\n\u001b[0m\u001b[0;32m     36\u001b[0m               \u001b[1;33m.\u001b[0m\u001b[0msort_values\u001b[0m\u001b[1;33m(\u001b[0m\u001b[1;34m'dep_time'\u001b[0m\u001b[1;33m)\u001b[0m\u001b[1;33m\u001b[0m\u001b[1;33m\u001b[0m\u001b[0m\n\u001b[0;32m     37\u001b[0m               \u001b[1;33m.\u001b[0m\u001b[0mreset_index\u001b[0m\u001b[1;33m(\u001b[0m\u001b[0mdrop\u001b[0m\u001b[1;33m=\u001b[0m\u001b[1;32mTrue\u001b[0m\u001b[1;33m)\u001b[0m\u001b[1;33m\u001b[0m\u001b[1;33m\u001b[0m\u001b[0m\n",
      "\u001b[1;32m~\\anaconda3\\lib\\site-packages\\pandas\\core\\reshape\\merge.py\u001b[0m in \u001b[0;36mmerge\u001b[1;34m(left, right, how, on, left_on, right_on, left_index, right_index, sort, suffixes, copy, indicator, validate)\u001b[0m\n\u001b[0;32m     87\u001b[0m         \u001b[0mvalidate\u001b[0m\u001b[1;33m=\u001b[0m\u001b[0mvalidate\u001b[0m\u001b[1;33m,\u001b[0m\u001b[1;33m\u001b[0m\u001b[1;33m\u001b[0m\u001b[0m\n\u001b[0;32m     88\u001b[0m     )\n\u001b[1;32m---> 89\u001b[1;33m     \u001b[1;32mreturn\u001b[0m \u001b[0mop\u001b[0m\u001b[1;33m.\u001b[0m\u001b[0mget_result\u001b[0m\u001b[1;33m(\u001b[0m\u001b[1;33m)\u001b[0m\u001b[1;33m\u001b[0m\u001b[1;33m\u001b[0m\u001b[0m\n\u001b[0m\u001b[0;32m     90\u001b[0m \u001b[1;33m\u001b[0m\u001b[0m\n\u001b[0;32m     91\u001b[0m \u001b[1;33m\u001b[0m\u001b[0m\n",
      "\u001b[1;32m~\\anaconda3\\lib\\site-packages\\pandas\\core\\reshape\\merge.py\u001b[0m in \u001b[0;36mget_result\u001b[1;34m(self)\u001b[0m\n\u001b[0;32m    666\u001b[0m             \u001b[0mself\u001b[0m\u001b[1;33m.\u001b[0m\u001b[0mleft\u001b[0m\u001b[1;33m,\u001b[0m \u001b[0mself\u001b[0m\u001b[1;33m.\u001b[0m\u001b[0mright\u001b[0m \u001b[1;33m=\u001b[0m \u001b[0mself\u001b[0m\u001b[1;33m.\u001b[0m\u001b[0m_indicator_pre_merge\u001b[0m\u001b[1;33m(\u001b[0m\u001b[0mself\u001b[0m\u001b[1;33m.\u001b[0m\u001b[0mleft\u001b[0m\u001b[1;33m,\u001b[0m \u001b[0mself\u001b[0m\u001b[1;33m.\u001b[0m\u001b[0mright\u001b[0m\u001b[1;33m)\u001b[0m\u001b[1;33m\u001b[0m\u001b[1;33m\u001b[0m\u001b[0m\n\u001b[0;32m    667\u001b[0m \u001b[1;33m\u001b[0m\u001b[0m\n\u001b[1;32m--> 668\u001b[1;33m         \u001b[0mjoin_index\u001b[0m\u001b[1;33m,\u001b[0m \u001b[0mleft_indexer\u001b[0m\u001b[1;33m,\u001b[0m \u001b[0mright_indexer\u001b[0m \u001b[1;33m=\u001b[0m \u001b[0mself\u001b[0m\u001b[1;33m.\u001b[0m\u001b[0m_get_join_info\u001b[0m\u001b[1;33m(\u001b[0m\u001b[1;33m)\u001b[0m\u001b[1;33m\u001b[0m\u001b[1;33m\u001b[0m\u001b[0m\n\u001b[0m\u001b[0;32m    669\u001b[0m \u001b[1;33m\u001b[0m\u001b[0m\n\u001b[0;32m    670\u001b[0m         llabels, rlabels = _items_overlap_with_suffix(\n",
      "\u001b[1;32m~\\anaconda3\\lib\\site-packages\\pandas\\core\\reshape\\merge.py\u001b[0m in \u001b[0;36m_get_join_info\u001b[1;34m(self)\u001b[0m\n\u001b[0;32m    882\u001b[0m             )\n\u001b[0;32m    883\u001b[0m         \u001b[1;32melse\u001b[0m\u001b[1;33m:\u001b[0m\u001b[1;33m\u001b[0m\u001b[1;33m\u001b[0m\u001b[0m\n\u001b[1;32m--> 884\u001b[1;33m             \u001b[1;33m(\u001b[0m\u001b[0mleft_indexer\u001b[0m\u001b[1;33m,\u001b[0m \u001b[0mright_indexer\u001b[0m\u001b[1;33m)\u001b[0m \u001b[1;33m=\u001b[0m \u001b[0mself\u001b[0m\u001b[1;33m.\u001b[0m\u001b[0m_get_join_indexers\u001b[0m\u001b[1;33m(\u001b[0m\u001b[1;33m)\u001b[0m\u001b[1;33m\u001b[0m\u001b[1;33m\u001b[0m\u001b[0m\n\u001b[0m\u001b[0;32m    885\u001b[0m \u001b[1;33m\u001b[0m\u001b[0m\n\u001b[0;32m    886\u001b[0m             \u001b[1;32mif\u001b[0m \u001b[0mself\u001b[0m\u001b[1;33m.\u001b[0m\u001b[0mright_index\u001b[0m\u001b[1;33m:\u001b[0m\u001b[1;33m\u001b[0m\u001b[1;33m\u001b[0m\u001b[0m\n",
      "\u001b[1;32m~\\anaconda3\\lib\\site-packages\\pandas\\core\\reshape\\merge.py\u001b[0m in \u001b[0;36m_get_join_indexers\u001b[1;34m(self)\u001b[0m\n\u001b[0;32m    860\u001b[0m     \u001b[1;32mdef\u001b[0m \u001b[0m_get_join_indexers\u001b[0m\u001b[1;33m(\u001b[0m\u001b[0mself\u001b[0m\u001b[1;33m)\u001b[0m\u001b[1;33m:\u001b[0m\u001b[1;33m\u001b[0m\u001b[1;33m\u001b[0m\u001b[0m\n\u001b[0;32m    861\u001b[0m         \u001b[1;34m\"\"\" return the join indexers \"\"\"\u001b[0m\u001b[1;33m\u001b[0m\u001b[1;33m\u001b[0m\u001b[0m\n\u001b[1;32m--> 862\u001b[1;33m         return _get_join_indexers(\n\u001b[0m\u001b[0;32m    863\u001b[0m             \u001b[0mself\u001b[0m\u001b[1;33m.\u001b[0m\u001b[0mleft_join_keys\u001b[0m\u001b[1;33m,\u001b[0m \u001b[0mself\u001b[0m\u001b[1;33m.\u001b[0m\u001b[0mright_join_keys\u001b[0m\u001b[1;33m,\u001b[0m \u001b[0msort\u001b[0m\u001b[1;33m=\u001b[0m\u001b[0mself\u001b[0m\u001b[1;33m.\u001b[0m\u001b[0msort\u001b[0m\u001b[1;33m,\u001b[0m \u001b[0mhow\u001b[0m\u001b[1;33m=\u001b[0m\u001b[0mself\u001b[0m\u001b[1;33m.\u001b[0m\u001b[0mhow\u001b[0m\u001b[1;33m\u001b[0m\u001b[1;33m\u001b[0m\u001b[0m\n\u001b[0;32m    864\u001b[0m         )\n",
      "\u001b[1;32m~\\anaconda3\\lib\\site-packages\\pandas\\core\\reshape\\merge.py\u001b[0m in \u001b[0;36m_get_join_indexers\u001b[1;34m(left_keys, right_keys, sort, how, **kwargs)\u001b[0m\n\u001b[0;32m   1331\u001b[0m         \u001b[1;32mfor\u001b[0m \u001b[0mn\u001b[0m \u001b[1;32min\u001b[0m \u001b[0mrange\u001b[0m\u001b[1;33m(\u001b[0m\u001b[0mlen\u001b[0m\u001b[1;33m(\u001b[0m\u001b[0mleft_keys\u001b[0m\u001b[1;33m)\u001b[0m\u001b[1;33m)\u001b[0m\u001b[1;33m\u001b[0m\u001b[1;33m\u001b[0m\u001b[0m\n\u001b[0;32m   1332\u001b[0m     )\n\u001b[1;32m-> 1333\u001b[1;33m     \u001b[0mzipped\u001b[0m \u001b[1;33m=\u001b[0m \u001b[0mzip\u001b[0m\u001b[1;33m(\u001b[0m\u001b[1;33m*\u001b[0m\u001b[0mmapped\u001b[0m\u001b[1;33m)\u001b[0m\u001b[1;33m\u001b[0m\u001b[1;33m\u001b[0m\u001b[0m\n\u001b[0m\u001b[0;32m   1334\u001b[0m     \u001b[0mllab\u001b[0m\u001b[1;33m,\u001b[0m \u001b[0mrlab\u001b[0m\u001b[1;33m,\u001b[0m \u001b[0mshape\u001b[0m \u001b[1;33m=\u001b[0m \u001b[1;33m[\u001b[0m\u001b[0mlist\u001b[0m\u001b[1;33m(\u001b[0m\u001b[0mx\u001b[0m\u001b[1;33m)\u001b[0m \u001b[1;32mfor\u001b[0m \u001b[0mx\u001b[0m \u001b[1;32min\u001b[0m \u001b[0mzipped\u001b[0m\u001b[1;33m]\u001b[0m\u001b[1;33m\u001b[0m\u001b[1;33m\u001b[0m\u001b[0m\n\u001b[0;32m   1335\u001b[0m \u001b[1;33m\u001b[0m\u001b[0m\n",
      "\u001b[1;32m~\\anaconda3\\lib\\site-packages\\pandas\\core\\reshape\\merge.py\u001b[0m in \u001b[0;36m<genexpr>\u001b[1;34m(.0)\u001b[0m\n\u001b[0;32m   1328\u001b[0m     \u001b[1;31m# get left & right join labels and num. of levels at each location\u001b[0m\u001b[1;33m\u001b[0m\u001b[1;33m\u001b[0m\u001b[1;33m\u001b[0m\u001b[0m\n\u001b[0;32m   1329\u001b[0m     mapped = (\n\u001b[1;32m-> 1330\u001b[1;33m         \u001b[0m_factorize_keys\u001b[0m\u001b[1;33m(\u001b[0m\u001b[0mleft_keys\u001b[0m\u001b[1;33m[\u001b[0m\u001b[0mn\u001b[0m\u001b[1;33m]\u001b[0m\u001b[1;33m,\u001b[0m \u001b[0mright_keys\u001b[0m\u001b[1;33m[\u001b[0m\u001b[0mn\u001b[0m\u001b[1;33m]\u001b[0m\u001b[1;33m,\u001b[0m \u001b[0msort\u001b[0m\u001b[1;33m=\u001b[0m\u001b[0msort\u001b[0m\u001b[1;33m,\u001b[0m \u001b[0mhow\u001b[0m\u001b[1;33m=\u001b[0m\u001b[0mhow\u001b[0m\u001b[1;33m)\u001b[0m\u001b[1;33m\u001b[0m\u001b[1;33m\u001b[0m\u001b[0m\n\u001b[0m\u001b[0;32m   1331\u001b[0m         \u001b[1;32mfor\u001b[0m \u001b[0mn\u001b[0m \u001b[1;32min\u001b[0m \u001b[0mrange\u001b[0m\u001b[1;33m(\u001b[0m\u001b[0mlen\u001b[0m\u001b[1;33m(\u001b[0m\u001b[0mleft_keys\u001b[0m\u001b[1;33m)\u001b[0m\u001b[1;33m)\u001b[0m\u001b[1;33m\u001b[0m\u001b[1;33m\u001b[0m\u001b[0m\n\u001b[0;32m   1332\u001b[0m     )\n",
      "\u001b[1;32m~\\anaconda3\\lib\\site-packages\\pandas\\core\\reshape\\merge.py\u001b[0m in \u001b[0;36m_factorize_keys\u001b[1;34m(lk, rk, sort, how)\u001b[0m\n\u001b[0;32m   1976\u001b[0m     \u001b[0mrizer\u001b[0m \u001b[1;33m=\u001b[0m \u001b[0mklass\u001b[0m\u001b[1;33m(\u001b[0m\u001b[0mmax\u001b[0m\u001b[1;33m(\u001b[0m\u001b[0mlen\u001b[0m\u001b[1;33m(\u001b[0m\u001b[0mlk\u001b[0m\u001b[1;33m)\u001b[0m\u001b[1;33m,\u001b[0m \u001b[0mlen\u001b[0m\u001b[1;33m(\u001b[0m\u001b[0mrk\u001b[0m\u001b[1;33m)\u001b[0m\u001b[1;33m)\u001b[0m\u001b[1;33m)\u001b[0m\u001b[1;33m\u001b[0m\u001b[1;33m\u001b[0m\u001b[0m\n\u001b[0;32m   1977\u001b[0m \u001b[1;33m\u001b[0m\u001b[0m\n\u001b[1;32m-> 1978\u001b[1;33m     \u001b[0mllab\u001b[0m \u001b[1;33m=\u001b[0m \u001b[0mrizer\u001b[0m\u001b[1;33m.\u001b[0m\u001b[0mfactorize\u001b[0m\u001b[1;33m(\u001b[0m\u001b[0mlk\u001b[0m\u001b[1;33m)\u001b[0m\u001b[1;33m\u001b[0m\u001b[1;33m\u001b[0m\u001b[0m\n\u001b[0m\u001b[0;32m   1979\u001b[0m     \u001b[0mrlab\u001b[0m \u001b[1;33m=\u001b[0m \u001b[0mrizer\u001b[0m\u001b[1;33m.\u001b[0m\u001b[0mfactorize\u001b[0m\u001b[1;33m(\u001b[0m\u001b[0mrk\u001b[0m\u001b[1;33m)\u001b[0m\u001b[1;33m\u001b[0m\u001b[1;33m\u001b[0m\u001b[0m\n\u001b[0;32m   1980\u001b[0m \u001b[1;33m\u001b[0m\u001b[0m\n",
      "\u001b[1;32mpandas\\_libs\\hashtable.pyx\u001b[0m in \u001b[0;36mpandas._libs.hashtable.Factorizer.factorize\u001b[1;34m()\u001b[0m\n",
      "\u001b[1;32mpandas\\_libs\\hashtable_class_helper.pxi\u001b[0m in \u001b[0;36mpandas._libs.hashtable.PyObjectHashTable.get_labels\u001b[1;34m()\u001b[0m\n",
      "\u001b[1;32mpandas\\_libs\\hashtable_class_helper.pxi\u001b[0m in \u001b[0;36mpandas._libs.hashtable.PyObjectHashTable._unique\u001b[1;34m()\u001b[0m\n",
      "\u001b[1;32m~\\anaconda3\\lib\\site-packages\\numpy\\core\\_asarray.py\u001b[0m in \u001b[0;36masarray\u001b[1;34m(a, dtype, order)\u001b[0m\n\u001b[0;32m     83\u001b[0m \u001b[1;33m\u001b[0m\u001b[0m\n\u001b[0;32m     84\u001b[0m     \"\"\"\n\u001b[1;32m---> 85\u001b[1;33m     \u001b[1;32mreturn\u001b[0m \u001b[0marray\u001b[0m\u001b[1;33m(\u001b[0m\u001b[0ma\u001b[0m\u001b[1;33m,\u001b[0m \u001b[0mdtype\u001b[0m\u001b[1;33m,\u001b[0m \u001b[0mcopy\u001b[0m\u001b[1;33m=\u001b[0m\u001b[1;32mFalse\u001b[0m\u001b[1;33m,\u001b[0m \u001b[0morder\u001b[0m\u001b[1;33m=\u001b[0m\u001b[0morder\u001b[0m\u001b[1;33m)\u001b[0m\u001b[1;33m\u001b[0m\u001b[1;33m\u001b[0m\u001b[0m\n\u001b[0m\u001b[0;32m     86\u001b[0m \u001b[1;33m\u001b[0m\u001b[0m\n\u001b[0;32m     87\u001b[0m \u001b[1;33m\u001b[0m\u001b[0m\n",
      "\u001b[1;31mKeyboardInterrupt\u001b[0m: "
     ]
    }
   ],
   "source": [
    "%%time\n",
    "D = process_scenarios([f's{i}-orig' for i in range(1, 38)], export=False)"
   ]
  },
  {
   "cell_type": "code",
   "execution_count": 38,
   "metadata": {},
   "outputs": [
    {
     "name": "stderr",
     "output_type": "stream",
     "text": [
      "ERROR:root:Internal Python error in the inspect module.\n",
      "Below is the traceback from this internal error.\n",
      "\n"
     ]
    },
    {
     "name": "stdout",
     "output_type": "stream",
     "text": [
      "Traceback (most recent call last):\n",
      "  File \"C:\\Users\\empha\\anaconda3\\lib\\site-packages\\IPython\\core\\interactiveshell.py\", line 3418, in run_code\n",
      "    exec(code_obj, self.user_global_ns, self.user_ns)\n",
      "  File \"<ipython-input-38-fa4dd0234c7e>\", line 1, in <module>\n",
      "    peek(D)\n",
      "NameError: name 'D' is not defined\n",
      "\n",
      "During handling of the above exception, another exception occurred:\n",
      "\n",
      "Traceback (most recent call last):\n",
      "  File \"C:\\Users\\empha\\anaconda3\\lib\\site-packages\\IPython\\core\\interactiveshell.py\", line 2045, in showtraceback\n",
      "    stb = value._render_traceback_()\n",
      "AttributeError: 'NameError' object has no attribute '_render_traceback_'\n",
      "\n",
      "During handling of the above exception, another exception occurred:\n",
      "\n",
      "Traceback (most recent call last):\n",
      "  File \"C:\\Users\\empha\\anaconda3\\lib\\site-packages\\IPython\\core\\ultratb.py\", line 1170, in get_records\n",
      "    return _fixed_getinnerframes(etb, number_of_lines_of_context, tb_offset)\n",
      "  File \"C:\\Users\\empha\\anaconda3\\lib\\site-packages\\IPython\\core\\ultratb.py\", line 316, in wrapped\n",
      "    return f(*args, **kwargs)\n",
      "  File \"C:\\Users\\empha\\anaconda3\\lib\\site-packages\\IPython\\core\\ultratb.py\", line 350, in _fixed_getinnerframes\n",
      "    records = fix_frame_records_filenames(inspect.getinnerframes(etb, context))\n",
      "  File \"C:\\Users\\empha\\anaconda3\\lib\\inspect.py\", line 1503, in getinnerframes\n",
      "    frameinfo = (tb.tb_frame,) + getframeinfo(tb, context)\n",
      "  File \"C:\\Users\\empha\\anaconda3\\lib\\inspect.py\", line 1461, in getframeinfo\n",
      "    filename = getsourcefile(frame) or getfile(frame)\n",
      "  File \"C:\\Users\\empha\\anaconda3\\lib\\inspect.py\", line 705, in getsourcefile\n",
      "    if os.path.exists(filename):\n",
      "  File \"C:\\Users\\empha\\anaconda3\\lib\\genericpath.py\", line 19, in exists\n",
      "    os.stat(path)\n",
      "KeyboardInterrupt\n"
     ]
    },
    {
     "ename": "TypeError",
     "evalue": "object of type 'NoneType' has no len()",
     "output_type": "error",
     "traceback": [
      "\u001b[1;31m---------------------------------------------------------------------------\u001b[0m",
      "\u001b[1;31mNameError\u001b[0m                                 Traceback (most recent call last)",
      "    \u001b[1;31m[... skipping hidden 1 frame]\u001b[0m\n",
      "\u001b[1;32m<ipython-input-38-fa4dd0234c7e>\u001b[0m in \u001b[0;36m<module>\u001b[1;34m\u001b[0m\n\u001b[1;32m----> 1\u001b[1;33m \u001b[0mpeek\u001b[0m\u001b[1;33m(\u001b[0m\u001b[0mD\u001b[0m\u001b[1;33m)\u001b[0m\u001b[1;33m\u001b[0m\u001b[1;33m\u001b[0m\u001b[0m\n\u001b[0m",
      "\u001b[1;31mNameError\u001b[0m: name 'D' is not defined",
      "\nDuring handling of the above exception, another exception occurred:\n",
      "\u001b[1;31mAttributeError\u001b[0m                            Traceback (most recent call last)",
      "\u001b[1;32m~\\anaconda3\\lib\\site-packages\\IPython\\core\\interactiveshell.py\u001b[0m in \u001b[0;36mshowtraceback\u001b[1;34m(self, exc_tuple, filename, tb_offset, exception_only, running_compiled_code)\u001b[0m\n\u001b[0;32m   2044\u001b[0m                         \u001b[1;31m# in the engines. This should return a list of strings.\u001b[0m\u001b[1;33m\u001b[0m\u001b[1;33m\u001b[0m\u001b[1;33m\u001b[0m\u001b[0m\n\u001b[1;32m-> 2045\u001b[1;33m                         \u001b[0mstb\u001b[0m \u001b[1;33m=\u001b[0m \u001b[0mvalue\u001b[0m\u001b[1;33m.\u001b[0m\u001b[0m_render_traceback_\u001b[0m\u001b[1;33m(\u001b[0m\u001b[1;33m)\u001b[0m\u001b[1;33m\u001b[0m\u001b[1;33m\u001b[0m\u001b[0m\n\u001b[0m\u001b[0;32m   2046\u001b[0m                     \u001b[1;32mexcept\u001b[0m \u001b[0mException\u001b[0m\u001b[1;33m:\u001b[0m\u001b[1;33m\u001b[0m\u001b[1;33m\u001b[0m\u001b[0m\n",
      "\u001b[1;31mAttributeError\u001b[0m: 'NameError' object has no attribute '_render_traceback_'",
      "\nDuring handling of the above exception, another exception occurred:\n",
      "\u001b[1;31mTypeError\u001b[0m                                 Traceback (most recent call last)",
      "    \u001b[1;31m[... skipping hidden 1 frame]\u001b[0m\n",
      "\u001b[1;32m~\\anaconda3\\lib\\site-packages\\IPython\\core\\interactiveshell.py\u001b[0m in \u001b[0;36mshowtraceback\u001b[1;34m(self, exc_tuple, filename, tb_offset, exception_only, running_compiled_code)\u001b[0m\n\u001b[0;32m   2045\u001b[0m                         \u001b[0mstb\u001b[0m \u001b[1;33m=\u001b[0m \u001b[0mvalue\u001b[0m\u001b[1;33m.\u001b[0m\u001b[0m_render_traceback_\u001b[0m\u001b[1;33m(\u001b[0m\u001b[1;33m)\u001b[0m\u001b[1;33m\u001b[0m\u001b[1;33m\u001b[0m\u001b[0m\n\u001b[0;32m   2046\u001b[0m                     \u001b[1;32mexcept\u001b[0m \u001b[0mException\u001b[0m\u001b[1;33m:\u001b[0m\u001b[1;33m\u001b[0m\u001b[1;33m\u001b[0m\u001b[0m\n\u001b[1;32m-> 2047\u001b[1;33m                         stb = self.InteractiveTB.structured_traceback(etype,\n\u001b[0m\u001b[0;32m   2048\u001b[0m                                             value, tb, tb_offset=tb_offset)\n\u001b[0;32m   2049\u001b[0m \u001b[1;33m\u001b[0m\u001b[0m\n",
      "\u001b[1;32m~\\anaconda3\\lib\\site-packages\\IPython\\core\\ultratb.py\u001b[0m in \u001b[0;36mstructured_traceback\u001b[1;34m(self, etype, value, tb, tb_offset, number_of_lines_of_context)\u001b[0m\n\u001b[0;32m   1434\u001b[0m         \u001b[1;32melse\u001b[0m\u001b[1;33m:\u001b[0m\u001b[1;33m\u001b[0m\u001b[1;33m\u001b[0m\u001b[0m\n\u001b[0;32m   1435\u001b[0m             \u001b[0mself\u001b[0m\u001b[1;33m.\u001b[0m\u001b[0mtb\u001b[0m \u001b[1;33m=\u001b[0m \u001b[0mtb\u001b[0m\u001b[1;33m\u001b[0m\u001b[1;33m\u001b[0m\u001b[0m\n\u001b[1;32m-> 1436\u001b[1;33m         return FormattedTB.structured_traceback(\n\u001b[0m\u001b[0;32m   1437\u001b[0m             self, etype, value, tb, tb_offset, number_of_lines_of_context)\n\u001b[0;32m   1438\u001b[0m \u001b[1;33m\u001b[0m\u001b[0m\n",
      "\u001b[1;32m~\\anaconda3\\lib\\site-packages\\IPython\\core\\ultratb.py\u001b[0m in \u001b[0;36mstructured_traceback\u001b[1;34m(self, etype, value, tb, tb_offset, number_of_lines_of_context)\u001b[0m\n\u001b[0;32m   1334\u001b[0m         \u001b[1;32mif\u001b[0m \u001b[0mmode\u001b[0m \u001b[1;32min\u001b[0m \u001b[0mself\u001b[0m\u001b[1;33m.\u001b[0m\u001b[0mverbose_modes\u001b[0m\u001b[1;33m:\u001b[0m\u001b[1;33m\u001b[0m\u001b[1;33m\u001b[0m\u001b[0m\n\u001b[0;32m   1335\u001b[0m             \u001b[1;31m# Verbose modes need a full traceback\u001b[0m\u001b[1;33m\u001b[0m\u001b[1;33m\u001b[0m\u001b[1;33m\u001b[0m\u001b[0m\n\u001b[1;32m-> 1336\u001b[1;33m             return VerboseTB.structured_traceback(\n\u001b[0m\u001b[0;32m   1337\u001b[0m                 \u001b[0mself\u001b[0m\u001b[1;33m,\u001b[0m \u001b[0metype\u001b[0m\u001b[1;33m,\u001b[0m \u001b[0mvalue\u001b[0m\u001b[1;33m,\u001b[0m \u001b[0mtb\u001b[0m\u001b[1;33m,\u001b[0m \u001b[0mtb_offset\u001b[0m\u001b[1;33m,\u001b[0m \u001b[0mnumber_of_lines_of_context\u001b[0m\u001b[1;33m\u001b[0m\u001b[1;33m\u001b[0m\u001b[0m\n\u001b[0;32m   1338\u001b[0m             )\n",
      "\u001b[1;32m~\\anaconda3\\lib\\site-packages\\IPython\\core\\ultratb.py\u001b[0m in \u001b[0;36mstructured_traceback\u001b[1;34m(self, etype, evalue, etb, tb_offset, number_of_lines_of_context)\u001b[0m\n\u001b[0;32m   1191\u001b[0m         \u001b[1;34m\"\"\"Return a nice text document describing the traceback.\"\"\"\u001b[0m\u001b[1;33m\u001b[0m\u001b[1;33m\u001b[0m\u001b[0m\n\u001b[0;32m   1192\u001b[0m \u001b[1;33m\u001b[0m\u001b[0m\n\u001b[1;32m-> 1193\u001b[1;33m         formatted_exception = self.format_exception_as_a_whole(etype, evalue, etb, number_of_lines_of_context,\n\u001b[0m\u001b[0;32m   1194\u001b[0m                                                                tb_offset)\n\u001b[0;32m   1195\u001b[0m \u001b[1;33m\u001b[0m\u001b[0m\n",
      "\u001b[1;32m~\\anaconda3\\lib\\site-packages\\IPython\\core\\ultratb.py\u001b[0m in \u001b[0;36mformat_exception_as_a_whole\u001b[1;34m(self, etype, evalue, etb, number_of_lines_of_context, tb_offset)\u001b[0m\n\u001b[0;32m   1149\u001b[0m \u001b[1;33m\u001b[0m\u001b[0m\n\u001b[0;32m   1150\u001b[0m \u001b[1;33m\u001b[0m\u001b[0m\n\u001b[1;32m-> 1151\u001b[1;33m         \u001b[0mlast_unique\u001b[0m\u001b[1;33m,\u001b[0m \u001b[0mrecursion_repeat\u001b[0m \u001b[1;33m=\u001b[0m \u001b[0mfind_recursion\u001b[0m\u001b[1;33m(\u001b[0m\u001b[0morig_etype\u001b[0m\u001b[1;33m,\u001b[0m \u001b[0mevalue\u001b[0m\u001b[1;33m,\u001b[0m \u001b[0mrecords\u001b[0m\u001b[1;33m)\u001b[0m\u001b[1;33m\u001b[0m\u001b[1;33m\u001b[0m\u001b[0m\n\u001b[0m\u001b[0;32m   1152\u001b[0m \u001b[1;33m\u001b[0m\u001b[0m\n\u001b[0;32m   1153\u001b[0m         \u001b[0mframes\u001b[0m \u001b[1;33m=\u001b[0m \u001b[0mself\u001b[0m\u001b[1;33m.\u001b[0m\u001b[0mformat_records\u001b[0m\u001b[1;33m(\u001b[0m\u001b[0mrecords\u001b[0m\u001b[1;33m,\u001b[0m \u001b[0mlast_unique\u001b[0m\u001b[1;33m,\u001b[0m \u001b[0mrecursion_repeat\u001b[0m\u001b[1;33m)\u001b[0m\u001b[1;33m\u001b[0m\u001b[1;33m\u001b[0m\u001b[0m\n",
      "\u001b[1;32m~\\anaconda3\\lib\\site-packages\\IPython\\core\\ultratb.py\u001b[0m in \u001b[0;36mfind_recursion\u001b[1;34m(etype, value, records)\u001b[0m\n\u001b[0;32m    449\u001b[0m     \u001b[1;31m# first frame (from in to out) that looks different.\u001b[0m\u001b[1;33m\u001b[0m\u001b[1;33m\u001b[0m\u001b[1;33m\u001b[0m\u001b[0m\n\u001b[0;32m    450\u001b[0m     \u001b[1;32mif\u001b[0m \u001b[1;32mnot\u001b[0m \u001b[0mis_recursion_error\u001b[0m\u001b[1;33m(\u001b[0m\u001b[0metype\u001b[0m\u001b[1;33m,\u001b[0m \u001b[0mvalue\u001b[0m\u001b[1;33m,\u001b[0m \u001b[0mrecords\u001b[0m\u001b[1;33m)\u001b[0m\u001b[1;33m:\u001b[0m\u001b[1;33m\u001b[0m\u001b[1;33m\u001b[0m\u001b[0m\n\u001b[1;32m--> 451\u001b[1;33m         \u001b[1;32mreturn\u001b[0m \u001b[0mlen\u001b[0m\u001b[1;33m(\u001b[0m\u001b[0mrecords\u001b[0m\u001b[1;33m)\u001b[0m\u001b[1;33m,\u001b[0m \u001b[1;36m0\u001b[0m\u001b[1;33m\u001b[0m\u001b[1;33m\u001b[0m\u001b[0m\n\u001b[0m\u001b[0;32m    452\u001b[0m \u001b[1;33m\u001b[0m\u001b[0m\n\u001b[0;32m    453\u001b[0m     \u001b[1;31m# Select filename, lineno, func_name to track frames with\u001b[0m\u001b[1;33m\u001b[0m\u001b[1;33m\u001b[0m\u001b[1;33m\u001b[0m\u001b[0m\n",
      "\u001b[1;31mTypeError\u001b[0m: object of type 'NoneType' has no len()"
     ]
    }
   ],
   "source": [
    "peek(D)"
   ]
  },
  {
   "cell_type": "code",
   "execution_count": null,
   "metadata": {
    "jupyter": {
     "source_hidden": true
    }
   },
   "outputs": [],
   "source": [
    "def compare_num_od(demand):\n",
    "    \"\"\"\n",
    "    Compare the no. of OD pairs and total demand by scenario.\n",
    "    \"\"\"\n",
    "    result = []\n",
    "    for scenario, df in demand.groupby('scenario'):\n",
    "        od_dmd = df.groupby(['orig', 'dest']).size().rename('nVeh')\n",
    "        result.append({'scenario': scenario, 'num_ods': od_dmd.size,\n",
    "                       'total_demand': od_dmd.sum()})\n",
    "    result = pd.DataFrame(result).set_index('scenario')\n",
    "    return result\n",
    "\n",
    "compare_num_od(D)"
   ]
  },
  {
   "cell_type": "markdown",
   "metadata": {},
   "source": [
    "### Get OD matrix"
   ]
  },
  {
   "cell_type": "code",
   "execution_count": 17,
   "metadata": {},
   "outputs": [
    {
     "name": "stdout",
     "output_type": "stream",
     "text": [
      "786\n"
     ]
    }
   ],
   "source": [
    "# unique IDs of the zones and shelters combined;\n",
    "# used to construct the OD matrix\n",
    "zone_ids = zones.append(shelts, ignore_index=True)['FID'].sort_values().values\n",
    "print(zone_ids.size)"
   ]
  },
  {
   "cell_type": "raw",
   "metadata": {
    "jupyter": {
     "source_hidden": true
    }
   },
   "source": [
    "def create_od_mat(demand, zone_ids=zone_ids, plot=False):\n",
    "    \"\"\"\n",
    "    Create an origin-destination (OD) demand matrix from a given demand table\n",
    "    using a networkx graph.\n",
    "    \"\"\"\n",
    "    # create the graph with all the nodes (zones+shelters)\n",
    "    G = nx.DiGraph()\n",
    "    G.add_nodes_from(zone_ids)\n",
    "    \n",
    "    # create the edge table\n",
    "    edges = (demand.groupby(['orig', 'dest']).size()\n",
    "             .rename('nVeh').reset_index().astype(np.int32).values)\n",
    "    \n",
    "    # add the edges to the graph\n",
    "    for e in edges:\n",
    "        G.add_edge(e[0], e[1], weight=e[2])\n",
    "    \n",
    "    # conver the sparse adjacency matrix to full NxN matrix (N = no. of nodes)\n",
    "    A = nx.adjacency_matrix(G).A\n",
    "    \n",
    "    # plot the image\n",
    "    if plot:\n",
    "        fig, ax = plt.subplots(figsize=(12, 12))\n",
    "        p = ax.imshow(A, cmap='Greys')\n",
    "        fig.colorbar(p, ax=ax, shrink=0.8)\n",
    "    \n",
    "    return pd.DataFrame(A, columns=zone_ids, index=zone_ids)\n",
    "\n",
    "_ = create_od_mat(base_dmd, plot=True)"
   ]
  },
  {
   "cell_type": "markdown",
   "metadata": {},
   "source": [
    "### Get OD distribution (big zones)"
   ]
  },
  {
   "cell_type": "code",
   "execution_count": null,
   "metadata": {
    "jupyter": {
     "source_hidden": true
    }
   },
   "outputs": [],
   "source": [
    "%%time\n",
    "def plot_od_distr_big(D, zones=zones, map_cbg_dir_zone=map_cbg_dir_zone, plot_base=False):\n",
    "    \"\"\"\n",
    "    Use the table containing the demand of all the scenarios and plot the\n",
    "    histogram of the top few most popular OD pairs.\n",
    "    \"\"\"\n",
    "    # get the mapping between destination zone IDs (FID) & directional zones\n",
    "    dest_zone_to_em_zone = (map_cbg_dir_zone\n",
    "                            .merge(zones.rename(columns={'GEOID': 'cbg'}), on='cbg')\n",
    "                            .drop(columns=['cbg'])\n",
    "                            .set_index('FID'))\n",
    "    \n",
    "    # convert the destination zones to directional zones\n",
    "    res = (\n",
    "        D.merge(dest_zone_to_em_zone, left_on='orig', right_index=True)\n",
    "        .rename(columns={'em_zone': 'orig_zone'})\n",
    "        .merge(dest_zone_to_em_zone, left_on='dest', right_index=True)\n",
    "        .rename(columns={'em_zone': 'dest_zone'})\n",
    "        .reset_index(drop=True)\n",
    "        .astype({'scenario': int})\n",
    "        [['scenario', 'veh_id', 'orig_zone', 'dest_zone', 'dep_time']]\n",
    "    )\n",
    "    \n",
    "    # plot\n",
    "    if plot_base:\n",
    "        pass\n",
    "    else:\n",
    "        fig, axs = plt.subplots(2, 6, figsize=(18, 6), sharex=True, sharey=True, dpi=90)\n",
    "        axs = axs.flatten()\n",
    "        # skip the base scenario\n",
    "        res = res.query('scenario != 0')\n",
    "        for k, (scenario, df) in enumerate(res.groupby('scenario')):\n",
    "            ax = axs[k]\n",
    "            # get the demand table for this scenario\n",
    "            dmd = (df.groupby(['orig_zone', 'dest_zone']).size()\n",
    "                   .rename('nVeh').reset_index()\n",
    "                   .pivot(index='orig_zone', columns='dest_zone', values='nVeh'))\n",
    "            X = dmd.columns.astype(str)\n",
    "            Y = dmd.index.astype(str)\n",
    "            \n",
    "            # plot the image\n",
    "            ax.imshow(dmd.values, cmap='Blues')\n",
    "            \n",
    "            # plot the cell labels\n",
    "            for i in range(len(X)):\n",
    "                for j in range(len(Y)):\n",
    "                    txt = ax.text(j, i, f'{dmd.iloc[i, j]/1e3:.1f}', color='orange',\n",
    "                                  ha='center', va='center', fontsize=7.5, fontweight='bold')\n",
    "                    # txt.set_path_effects(\n",
    "                    #     [effects.withStroke(linewidth=2, foreground='w')])\n",
    "            \n",
    "            # format the labels & title\n",
    "            ax.set_title(f'S{scenario}')\n",
    "            ax.set_xticks(np.arange(0, len(X), 1))\n",
    "            ax.set_yticks(np.arange(0, len(Y), 1))\n",
    "            ax.set_xticklabels(X)\n",
    "            ax.set_yticklabels(Y)\n",
    "        fig.suptitle('Demand variation in the {} scenarios'\n",
    "                  .format(len(res.groupby('scenario')), fontsize=15))\n",
    "        fig.text(0.1, 0.5, \"Origin zone\\n(0 means not covered in Emmanuel's 7 zones)\",\n",
    "                 rotation=90, ha='center', va='center', fontsize=12)\n",
    "        fig.text(0.5, 0.05, 'Destination zone', ha='center', fontsize=12)\n",
    "        plt.subplots_adjust(wspace=0.02)\n",
    "\n",
    "plot_od_distr_big(D)"
   ]
  },
  {
   "cell_type": "markdown",
   "metadata": {},
   "source": [
    "### Get OD distribution\n",
    "Plot the histogram of OD demand where x-axis is the OD ID and y-axis is the demand of that OD pair. Select only the top few most popular OD pairs across all the scenarios."
   ]
  },
  {
   "cell_type": "code",
   "execution_count": null,
   "metadata": {
    "jupyter": {
     "source_hidden": true
    }
   },
   "outputs": [],
   "source": [
    "%%time\n",
    "def plot_od_distr(D, top=100, figsize=(16, 5)):\n",
    "    \"\"\"\n",
    "    Use the table containing the demand of all the scenarios and plot the\n",
    "    histogram of the top few most popular OD pairs.\n",
    "    \"\"\"\n",
    "    # get the list of all-scenario popular OD pairs\n",
    "    pop_ods = (D.groupby(['orig', 'dest']).size().rename('nVeh')\n",
    "               .sort_values(ascending=False).head(top)\n",
    "               .reset_index()[['orig', 'dest']])\n",
    "    \n",
    "    # now filter these ODPs in all of the scenarios\n",
    "    fig, ax = plt.subplots(figsize=figsize, dpi=90)\n",
    "    \n",
    "    colors = sns.color_palette('husl', len(D.groupby('scenario')))\n",
    "    \n",
    "    for (scenario, df), color in zip(D.groupby('scenario'), colors):\n",
    "        # get the demand table for this scenario\n",
    "        dmd = df.groupby(['orig', 'dest']).size().rename('nVeh').reset_index()\n",
    "        # filter only the popular ODPs\n",
    "        dmd = dmd.merge(pop_ods, on=('orig', 'dest'), how='right')\n",
    "        # format the OD pair labels\n",
    "        dmd['od_id'] = dmd['orig'].astype(str) + '->' + dmd['dest'].astype(str)\n",
    "        \n",
    "        # plot the demand by ODP\n",
    "        if scenario == 0: # special formatting for base scenario\n",
    "            color, linewidth, sc_name = 'black', 3, 'Base'\n",
    "        else:\n",
    "            linewidth, sc_name = 1, f'S{scenario}'\n",
    "        # calculate the total demand & no. of ODs in this scenario to be added to label\n",
    "        od_dmd = D[D['scenario'] == scenario].groupby(['orig', 'dest']).size()\n",
    "        label = sc_name\n",
    "        \n",
    "        ax.plot(dmd['od_id'], dmd['nVeh'], color=color, lw=linewidth, label=label)\n",
    "        \n",
    "        # format the xticks\n",
    "        ticks_loc = ax.get_xticks()\n",
    "        ax.xaxis.set_major_locator(mticker.FixedLocator(ticks_loc))\n",
    "        ax.set_xticklabels(dmd['od_id'], rotation=90, fontsize=8)\n",
    "    ax.legend()\n",
    "    plt.title(f'Demand variation in the {top} most popular OD pairs by demand scenario',\n",
    "              fontsize=15)\n",
    "    plt.xlabel('OD pair', fontsize=13)\n",
    "    plt.ylabel('No. of vehicles', fontsize=13)\n",
    "    \n",
    "plot_od_distr(D)"
   ]
  },
  {
   "cell_type": "markdown",
   "metadata": {},
   "source": [
    "## Read simulation output"
   ]
  },
  {
   "cell_type": "code",
   "execution_count": null,
   "metadata": {},
   "outputs": [],
   "source": [
    "%%time\n",
    "sim_out = (pd.concat(\n",
    "    [pd.read_csv(f, usecols=range(8))\n",
    "     .assign(scenario=int(f.split('/')[-1].split('-')[2][1:]))\n",
    "     for f in glob('../simulation_output/shen-strat2-v1/logger*.csv')])\n",
    "           .assign(totalDistance = lambda x: x['totalDistance']/1609.34,\n",
    "                   travelTime = lambda x: (x['endTime'] - x['startTime'])/12000)\n",
    "           .astype({'vehicleID': np.int32, 'zoneType': 'category',\n",
    "                   'startTime': np.int32, 'endTime': np.int32,\n",
    "                   'originID': np.int16, 'destID': np.int16,\n",
    "                   'visitedShelters': np.int32, 'scenario': 'category'}))\n",
    "peek(sim_out)"
   ]
  },
  {
   "cell_type": "code",
   "execution_count": null,
   "metadata": {},
   "outputs": [],
   "source": [
    "sim_out.describe()"
   ]
  },
  {
   "cell_type": "raw",
   "metadata": {},
   "source": [
    "sim_out.sort_values('visitedShelters', ascending=False).head(50)"
   ]
  },
  {
   "cell_type": "code",
   "execution_count": 212,
   "metadata": {},
   "outputs": [
    {
     "data": {
      "image/png": "[encoded data removed]",
      "text/plain": [
       "<Figure size 600x400 with 1 Axes>"
      ]
     },
     "metadata": {
      "needs_background": "light"
     },
     "output_type": "display_data"
    }
   ],
   "source": [
    "fig = plt.figure(dpi=100)\n",
    "(sim_out.sort_values('visitedShelters', ascending=False)\n",
    " .head(60).visitedShelters.reset_index(drop=True)\n",
    " .plot(lw=0.1, marker='.'))\n",
    "plt.yscale('log')\n",
    "plt.axhline(3, color='red', ls='--', lw=1)\n",
    "plt.ylabel('No. of visited shelters', fontsize=12)\n",
    "plt.xlabel('Serial number', fontsize=12)\n",
    "plt.title('No. of visited shelters of top 60 vehicles in S1-12', fontsize=14);"
   ]
  },
  {
   "cell_type": "code",
   "execution_count": null,
   "metadata": {},
   "outputs": [],
   "source": [
    "def compare_scenario_performance(data, yvar, ylabel, outliers=True):\n",
    "    fig = plt.figure(dpi=100)\n",
    "    ax = sns.boxplot(data=data, x='scenario', y=yvar, showfliers=outliers)\n",
    "    fig.add_subplot(ax)\n",
    "    ax.set_ylabel(ylabel)\n",
    "    ax.set_xlabel('Demand scenario')"
   ]
  },
  {
   "cell_type": "code",
   "execution_count": null,
   "metadata": {},
   "outputs": [],
   "source": [
    "compare_scenario_performance(sim_out, 'travelTime', 'Travel time (hours)')"
   ]
  },
  {
   "cell_type": "code",
   "execution_count": null,
   "metadata": {},
   "outputs": [],
   "source": [
    "compare_scenario_performance(sim_out, 'totalDistance', 'Total Distance (mi)')"
   ]
  },
  {
   "cell_type": "code",
   "execution_count": null,
   "metadata": {},
   "outputs": [],
   "source": [
    "compare_scenario_performance(sim_out, 'travelTime', 'Travel time (hours)', outliers=False)"
   ]
  },
  {
   "cell_type": "code",
   "execution_count": null,
   "metadata": {},
   "outputs": [],
   "source": [
    "compare_scenario_performance(sim_out, 'totalDistance', 'Total Distance (mi)', outliers=False)"
   ]
  },
  {
   "cell_type": "code",
   "execution_count": null,
   "metadata": {},
   "outputs": [],
   "source": [
    "%%time\n",
    "def get_em_zone_output(data):\n",
    "    \"\"\"Assign the origin/dest directional zones to simulation output table.\"\"\"\n",
    "    fid2cbg = zones.append(shelts).rename(columns={'GEOID': 'cbg'})\n",
    "    df = (data.merge(fid2cbg.rename(columns={'FID': 'originID'}),\n",
    "                     on='originID', how='left')\n",
    "          .merge(map_cbg_dir_zone.rename(columns={'em_zone': 'originZone'}),\n",
    "                 on='cbg').drop(columns='cbg'))\n",
    "    df = (df.merge(fid2cbg.rename(columns={'FID': 'destID'}),\n",
    "                     on='destID', how='left')\n",
    "          .merge(map_cbg_dir_zone.rename(columns={'em_zone': 'destZone'}),\n",
    "                 on='cbg').drop(columns='cbg'))\n",
    "    return df.astype({'originZone': 'category', 'destZone': 'category'})\n",
    "    \n",
    "sim_out_by_zone = get_em_zone_output(sim_out)\n",
    "peek(sim_out_by_zone)"
   ]
  },
  {
   "cell_type": "code",
   "execution_count": null,
   "metadata": {
    "jupyter": {
     "source_hidden": true
    }
   },
   "outputs": [],
   "source": [
    "def compare_od_performance(data):\n",
    "    fig, ax = plt.subplots(figsize=(10, 4), dpi=130)\n",
    "    for scenario, sc_df in data.groupby('scenario'):\n",
    "        df = (sc_df.groupby(['originZone', 'destZone'])\n",
    "              [['travelTime']].mean().reset_index()\n",
    "              .assign(od_id = lambda x: x['originZone'].astype(str) +\n",
    "                      ' -> ' + x['destZone'].astype(str))\n",
    "              .sort_values('od_id')\n",
    "              .assign(scenario = scenario))\n",
    "        ax.plot(df['od_id'], df['travelTime'],\n",
    "                label=f'S{scenario}', marker='.', lw=0.3)\n",
    "    plt.xticks(rotation=90)\n",
    "    plt.legend(bbox_to_anchor=(1, 1))\n",
    "    plt.ylabel('Avg. travel time (h)', fontsize=12)\n",
    "    plt.xlabel('Directional zone OD pair', fontsize=12)\n",
    "    plt.title('Variation of avg. travel time by OD pair across demand scenario')\n",
    "    \n",
    "compare_od_performance(sim_out_by_zone)"
   ]
  },
  {
   "cell_type": "code",
   "execution_count": null,
   "metadata": {
    "jupyter": {
     "source_hidden": true
    }
   },
   "outputs": [],
   "source": [
    "def compare_od_demand(data):\n",
    "    fig, ax = plt.subplots(figsize=(10, 4))\n",
    "    for scenario, sc_df in data.groupby('scenario'):\n",
    "        df = (sc_df.groupby(['originZone', 'destZone'])\n",
    "              .size().rename('demand').reset_index()\n",
    "              .assign(od_id = lambda x: x['originZone'].astype(str) +\n",
    "                      ' -> ' + x['destZone'].astype(str))\n",
    "              .sort_values('od_id')\n",
    "              .assign(scenario = scenario))\n",
    "        ax.plot(df['od_id'], df['demand'],\n",
    "                label=f'S{scenario}', marker='.', lw=0.3)\n",
    "    plt.xticks(rotation=90)\n",
    "    plt.legend(bbox_to_anchor=(1, 1))\n",
    "    plt.ylabel('Avg. travel time (h)', fontsize=12)\n",
    "    plt.xlabel('Directional zone OD pair', fontsize=12)\n",
    "    plt.title('Variation of avg. travel time by OD pair across demand scenario')\n",
    "    \n",
    "compare_od_demand(sim_out_by_zone)"
   ]
  }
 ],
 "metadata": {
  "kernelspec": {
   "display_name": "Python 3",
   "language": "python",
   "name": "python3"
  },
  "language_info": {
   "codemirror_mode": {
    "name": "ipython",
    "version": 3
   },
   "file_extension": ".py",
   "mimetype": "text/x-python",
   "name": "python",
   "nbconvert_exporter": "python",
   "pygments_lexer": "ipython3",
   "version": "3.8.3"
  }
 },
 "nbformat": 4,
 "nbformat_minor": 4
}
